{
 "cells": [
  {
   "cell_type": "markdown",
   "id": "45cac3ab",
   "metadata": {},
   "source": [
    "#Ans1.) \n",
    "\n",
    "Multiprocessing in Python refers to the ability to create and manage multiple processes concurrently within a Python program. Each process runs in its own memory space and can execute independently of other processes. Multiprocessing is useful for parallelizing tasks, taking advantage of multiple CPU cores, and improving overall performance in CPU-bound tasks. Unlike multithreading, multiprocessing bypasses Python's Global Interpreter Lock (GIL), allowing true parallelism and better utilization of multicore processors"
   ]
  },
  {
   "cell_type": "code",
   "execution_count": null,
   "id": "47f4bef4",
   "metadata": {},
   "outputs": [],
   "source": []
  },
  {
   "cell_type": "markdown",
   "id": "449389b8",
   "metadata": {},
   "source": [
    "#Ans2.) \n",
    "\n",
    "Threading: Threads are lighter than processes and share the same memory space. Threading is more suitable for I/O-bound tasks or tasks that involve waiting for external events. However, due to Python's Global Interpreter Lock (GIL), true parallelism is limited.\n",
    "\n",
    "Multiprocessing: Processes have separate memory spaces and run independently of each other. Multiprocessing is suitable for CPU-bound tasks that can benefit from parallel execution across multiple CPU cores. Multiprocessing bypasses the GIL, allowing for true parallelism and better utilization of multicore processors"
   ]
  },
  {
   "cell_type": "code",
   "execution_count": null,
   "id": "ece33a3b",
   "metadata": {},
   "outputs": [],
   "source": []
  },
  {
   "cell_type": "code",
   "execution_count": 1,
   "id": "c27a3d4d",
   "metadata": {},
   "outputs": [],
   "source": [
    "#Ans3.) \n",
    "\n",
    "import multiprocessing\n",
    "\n",
    "def worker(num):\n",
    "    print(f\"Worker {num} is executing.\")\n",
    "\n",
    "if __name__ == \"__main__\":\n",
    "    # Create a process\n",
    "    p = multiprocessing.Process(target=worker, args=(1,))\n",
    "    \n",
    "    # Start the process\n",
    "    p.start()\n",
    "    \n",
    "    # Wait for the process to finish\n",
    "    p.join()\n"
   ]
  },
  {
   "cell_type": "code",
   "execution_count": null,
   "id": "7f8ac064",
   "metadata": {},
   "outputs": [],
   "source": []
  },
  {
   "cell_type": "markdown",
   "id": "618b7c86",
   "metadata": {},
   "source": [
    "#Ans4.) \n",
    "\n",
    "A multiprocessing pool in Python is a convenient abstraction that allows you to distribute tasks across multiple worker processes. It provides a simple interface for parallelizing tasks by managing a pool of worker processes, where tasks are assigned to available processes for execution. Multiprocessing pools are useful for parallelizing tasks that can be split into independent units of work, such as map-reduce operations, CPU-bound computations, or processing large datasets in parallel."
   ]
  },
  {
   "cell_type": "code",
   "execution_count": null,
   "id": "40d5f60b",
   "metadata": {},
   "outputs": [],
   "source": []
  },
  {
   "cell_type": "code",
   "execution_count": null,
   "id": "d0b2cdf4",
   "metadata": {},
   "outputs": [],
   "source": [
    "#Ans5.)\n",
    "\n",
    "import multiprocessing\n",
    "\n",
    "def worker(num):\n",
    "    return num * num\n",
    "\n",
    "if __name__ == \"__main__\":\n",
    "    # Create a multiprocessing pool with 4 worker processes\n",
    "    with multiprocessing.Pool(processes=4) as pool:\n",
    "        # Distribute tasks to the pool\n",
    "        result = pool.map(worker, range(10))\n",
    "        print(result)\n"
   ]
  },
  {
   "cell_type": "code",
   "execution_count": null,
   "id": "0959e83c",
   "metadata": {},
   "outputs": [],
   "source": []
  },
  {
   "cell_type": "code",
   "execution_count": null,
   "id": "2ec66a55",
   "metadata": {},
   "outputs": [],
   "source": [
    "#Ans6.) \n",
    "\n",
    "import multiprocessing\n",
    "\n",
    "def print_number(num):\n",
    "    print(f\"Process {num}: {num}\")\n",
    "\n",
    "if __name__ == \"__main__\":\n",
    "    processes = []\n",
    "    for i in range(4):\n",
    "        p = multiprocessing.Process(target=print_number, args=(i,))\n",
    "        processes.append(p)\n",
    "        p.start()\n",
    "    \n",
    "    for p in processes:\n",
    "        p.join()\n"
   ]
  },
  {
   "cell_type": "code",
   "execution_count": null,
   "id": "81bfefac",
   "metadata": {},
   "outputs": [],
   "source": []
  },
  {
   "cell_type": "code",
   "execution_count": null,
   "id": "caf720d6",
   "metadata": {},
   "outputs": [],
   "source": []
  }
 ],
 "metadata": {
  "kernelspec": {
   "display_name": "Python 3 (ipykernel)",
   "language": "python",
   "name": "python3"
  },
  "language_info": {
   "codemirror_mode": {
    "name": "ipython",
    "version": 3
   },
   "file_extension": ".py",
   "mimetype": "text/x-python",
   "name": "python",
   "nbconvert_exporter": "python",
   "pygments_lexer": "ipython3",
   "version": "3.11.4"
  }
 },
 "nbformat": 4,
 "nbformat_minor": 5
}
